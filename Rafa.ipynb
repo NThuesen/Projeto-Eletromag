{
 "cells": [
  {
   "cell_type": "code",
   "execution_count": 43,
   "metadata": {},
   "outputs": [],
   "source": [
    "#Vamos importar os módulos que precisamos\n",
    "from cmath import *\n",
    "from numpy import linalg\n",
    "import numpy as np"
   ]
  },
  {
   "cell_type": "markdown",
   "metadata": {},
   "source": [
    "# CIRCUITO SÉRIE:\n"
   ]
  },
  {
   "cell_type": "markdown",
   "metadata": {},
   "source": [
    "### a. Declare as variáveis do transformador ($R_1$, $R_2$, $L_1$, $L_2$) e da fonte (frequência e tensão eficaz - Ufonte)"
   ]
  },
  {
   "cell_type": "code",
   "execution_count": 44,
   "metadata": {},
   "outputs": [],
   "source": [
    "#Resistências \n",
    "R1 = 0.5\n",
    "R2 = 0.5\n",
    "\n",
    "#Indutâncias\n",
    "L1 = 1e-6\n",
    "L2 = 1e-6\n",
    "\n",
    "#Capacitâncias\n",
    "C1 = 1e-6\n",
    "C2 = 1e-6\n",
    "\n",
    "#Frequências \n",
    "f = 36000 #Gabriel amigo do Vini falou que o Carrarreto falou na sala deles (CHECAR)\n",
    "\n",
    "#Tensões\n",
    "V1 = 5*2/np.pi\n",
    "\n",
    "#Frequência Angular:\n",
    "w = 2*np.pi*f\n",
    "\n",
    "ka = 0.2 #fator de acoplamento CHECAR\n",
    "M = ka*((L1*L2)**(1/2))\n",
    "\n",
    "\n",
    "\n",
    "#Reatâncias\n",
    "XL1 = w*L1*1j\n",
    "XL2 = w*L2*1j\n",
    "\n",
    "XM = 1j*w*M\n",
    "\n",
    "XC1 = 1/(1j*w*C1)\n",
    "XC2 = 1/(1j*w*C2)\n",
    "\n",
    "\n"
   ]
  },
  {
   "cell_type": "code",
   "execution_count": 45,
   "metadata": {},
   "outputs": [],
   "source": [
    "def CalcularTransformadorSerie(Uf, Rc):\n",
    "    Z=np.array([[R1+XL1+XC1, -XM],[-XM, XL2+R2+Rc+XC2]])\n",
    "    V=np.array([Uf,0])\n",
    "    i=np.dot(linalg.inv(Z),V)\n",
    "    voltagem_2 = i[1].real *Rc\n",
    "    return i[0], i[1], voltagem_2"
   ]
  },
  {
   "cell_type": "code",
   "execution_count": 46,
   "metadata": {},
   "outputs": [],
   "source": [
    "def CalcularTransformadorParalelo(Uf, Rc):\n",
    "    Xep = (Rc*XC2)/(Rc+XC2)\n",
    "    Z=np.array([[R1+XL1+XC1, -XM],[-XM, XL2+R2+Xep]])\n",
    "    V=np.array([Uf,0])\n",
    "    i=np.dot(linalg.inv(Z),V)\n",
    "    voltagem_2 = i[1].real*Rc\n",
    "    return i[0], i[1], voltagem_2"
   ]
  },
  {
   "cell_type": "code",
   "execution_count": 47,
   "metadata": {},
   "outputs": [],
   "source": [
    "#Calcula o valor da indutância dependendo da capacitância e da frequência angular:\n",
    "def CalculaIndutância(C,w):\n",
    "    L = 1/((w**2)*C)\n",
    "    return L\n",
    "\n",
    "#Calcula o valor da Frequência Angular dependendo da frequência\n",
    "def CalculaFrequenciaAngular(f):\n",
    "    w = 2*np.pi*f\n",
    "    return w"
   ]
  },
  {
   "cell_type": "code",
   "execution_count": 48,
   "metadata": {},
   "outputs": [
    {
     "name": "stdout",
     "output_type": "stream",
     "text": [
      "o valor de i1 é: (0.08921364700621767+0.7481990234171095j) \n",
      "o valor de i2 é: (-0.002912336147182974-0.000779111179064921j)\n"
     ]
    }
   ],
   "source": [
    "RC = 10 # O que o prof faz no código do Lab --> NÂO TEMOS CERTEZA\n",
    "\n",
    "i1, i2, V2 = CalcularTransformadorSerie(V1,RC)\n",
    "print(f'o valor de i1 é: {i1} \\no valor de i2 é: {i2}')"
   ]
  },
  {
   "cell_type": "code",
   "execution_count": 49,
   "metadata": {},
   "outputs": [
    {
     "name": "stdout",
     "output_type": "stream",
     "text": [
      "o valor de i1 é: (0.08924523123332447+0.7482575573953513j) \n",
      "o valor de i2 é: (-0.0051940381719662605-0.006555751223462076j)\n"
     ]
    }
   ],
   "source": [
    "RC = 10 # O que o prof faz no código do Lab --> NÂO TEMOS CERTEZA\n",
    "\n",
    "i1, i2, V2 = CalcularTransformadorParalelo(V1,RC)\n",
    "print(f'o valor de i1 é: {i1} \\no valor de i2 é: {i2}')"
   ]
  },
  {
   "cell_type": "markdown",
   "metadata": {},
   "source": [
    "Loop para plotar os gráficos"
   ]
  },
  {
   "cell_type": "code",
   "execution_count": 55,
   "metadata": {},
   "outputs": [],
   "source": [
    "#Valores da capacitância\n",
    "capacitancias = [1.5e-7, 1e-7, 4.7e-7, 1e-6, 4.7e-6]\n",
    "\n",
    "#valores da frequência\n",
    "frequencias = list(range(100, 100001, 100))\n",
    "\n",
    "#Valores da frequencia de resonancia\n",
    "frequencias_resonancias = []\n",
    "\n",
    "#Eficiencias para transformador em série\n",
    "eficiencias_serie = []\n",
    "\n",
    "#Eficiencias para transformador em paralelo\n",
    "eficiencias_paralelo = []\n"
   ]
  },
  {
   "cell_type": "code",
   "execution_count": 56,
   "metadata": {},
   "outputs": [],
   "source": [
    "\n",
    "for C in capacitancias:\n",
    "    for f in frequencias:\n",
    "        w = CalculaFrequenciaAngular(f)\n",
    "        L = CalculaIndutância(C,w)\n",
    "\n",
    "        f_resonacia = 1/(2*pi*(L*C))\n",
    "        frequencias_resonancias.append(f_resonacia)\n",
    "        \n",
    "        i1,i2,V2_paralelo = CalcularTransformadorParalelo(V1,5)\n",
    "\n",
    "        Psaida = 0.5*V2_paralelo*i2.real\n",
    "        Pentrada = 0.5*V1*i1\n",
    "        eficiencia = Psaida/Pentrada\n",
    "        eficiencias_paralelo.append(eficiencia)\n",
    "\n",
    "        i1,i2,V2_serie = CalcularTransformadorSerie(V1,5)\n",
    "\n",
    "        Psaida = 0.5*V2_serie*i2.real\n",
    "        Pentrada = 0.5*V1*i1.real\n",
    "        eficiencia = Psaida/Pentrada\n",
    "        eficiencias_serie.append(eficiencia)\n"
   ]
  }
 ],
 "metadata": {
  "kernelspec": {
   "display_name": "base",
   "language": "python",
   "name": "python3"
  },
  "language_info": {
   "codemirror_mode": {
    "name": "ipython",
    "version": 3
   },
   "file_extension": ".py",
   "mimetype": "text/x-python",
   "name": "python",
   "nbconvert_exporter": "python",
   "pygments_lexer": "ipython3",
   "version": "3.10.9"
  }
 },
 "nbformat": 4,
 "nbformat_minor": 2
}
