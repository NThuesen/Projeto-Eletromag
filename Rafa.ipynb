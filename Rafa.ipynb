{
 "cells": [
  {
   "cell_type": "code",
   "execution_count": 2,
   "metadata": {},
   "outputs": [],
   "source": [
    "#Vamos importar os módulos que precisamos\n",
    "from cmath import *\n",
    "from numpy import linalg\n",
    "import numpy as np"
   ]
  },
  {
   "cell_type": "markdown",
   "metadata": {},
   "source": [
    "# CIRCUITO SÉRIE:\n"
   ]
  },
  {
   "cell_type": "markdown",
   "metadata": {},
   "source": [
    "### a. Declare as variáveis do transformador ($R_1$, $R_2$, $L_1$, $L_2$) e da fonte (frequência e tensão eficaz - Ufonte)"
   ]
  },
  {
   "cell_type": "code",
   "execution_count": 4,
   "metadata": {},
   "outputs": [],
   "source": [
    "#Resistências \n",
    "R1 = 0.5\n",
    "R2 = 0.5\n",
    "\n",
    "#Indutâncias\n",
    "L1 = 1e-6\n",
    "L2 = 1e-6\n",
    "\n",
    "#Capacitâncias\n",
    "C1 = 1e-6\n",
    "C2 = 1e-6\n",
    "\n",
    "#Frequências \n",
    "f = 36000 #Gabriel amigo do Vini falou que o Carrarreto falou na sala deles (CHECAR)\n",
    "\n",
    "#Tensões\n",
    "V1 = 5*2/np.pi\n",
    "\n",
    "#Frequência Angular:\n",
    "w = 2*np.pi*f\n",
    "\n",
    "M = (L1*L2)**(1/2)\n",
    "\n",
    "#Reatâncias\n",
    "XL1 = w*L1*1j\n",
    "XL2 = w*L2*1j\n",
    "\n",
    "XM = 1j*w*M\n",
    "\n",
    "XC1 = 1/(1j*w*C1)\n",
    "XC2 = 1/(1j*w*C2)\n"
   ]
  },
  {
   "cell_type": "code",
   "execution_count": 6,
   "metadata": {},
   "outputs": [],
   "source": [
    "def CalcularTransformador(Uf, Rc):\n",
    "    Z=np.array([[R1+XL1, -XM],[-XM, XL2+R2+Rc]])\n",
    "    \n",
    "    V=np.array([Uf,0])\n",
    "    i=np.dot(linalg.inv(Z),V)\n",
    "    return i[0], i[1]"
   ]
  },
  {
   "cell_type": "code",
   "execution_count": 7,
   "metadata": {},
   "outputs": [
    {
     "data": {
      "text/plain": [
       "(np.complex128(5.284659775160084-2.390723758996475j), np.complex128(0j))"
      ]
     },
     "execution_count": 7,
     "metadata": {},
     "output_type": "execute_result"
    }
   ],
   "source": [
    "i1, i2 = CalcularTransformador(V1,np.inf)\n",
    "i1, i2"
   ]
  },
  {
   "cell_type": "code",
   "execution_count": null,
   "metadata": {},
   "outputs": [],
   "source": []
  }
 ],
 "metadata": {
  "kernelspec": {
   "display_name": "Python 3",
   "language": "python",
   "name": "python3"
  },
  "language_info": {
   "codemirror_mode": {
    "name": "ipython",
    "version": 3
   },
   "file_extension": ".py",
   "mimetype": "text/x-python",
   "name": "python",
   "nbconvert_exporter": "python",
   "pygments_lexer": "ipython3",
   "version": "3.11.10"
  }
 },
 "nbformat": 4,
 "nbformat_minor": 2
}
