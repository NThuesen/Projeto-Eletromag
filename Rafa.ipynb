{
 "cells": [
  {
   "cell_type": "code",
   "execution_count": 25,
   "metadata": {},
   "outputs": [],
   "source": [
    "#Vamos importar os módulos que precisamos\n",
    "from cmath import *\n",
    "from numpy import linalg\n",
    "import numpy as np"
   ]
  },
  {
   "cell_type": "markdown",
   "metadata": {},
   "source": [
    "# CIRCUITO SÉRIE:\n"
   ]
  },
  {
   "cell_type": "markdown",
   "metadata": {},
   "source": [
    "### a. Declare as variáveis do transformador ($R_1$, $R_2$, $L_1$, $L_2$) e da fonte (frequência e tensão eficaz - Ufonte)"
   ]
  },
  {
   "cell_type": "code",
   "execution_count": 26,
   "metadata": {},
   "outputs": [],
   "source": [
    "#Resistências \n",
    "R1 = 0.5\n",
    "R2 = 0.5\n",
    "\n",
    "#Indutâncias\n",
    "L1 = 1e-6\n",
    "L2 = 1e-6\n",
    "\n",
    "#Capacitâncias\n",
    "C1 = 1e-6\n",
    "C2 = 1e-6\n",
    "\n",
    "#Frequências \n",
    "f = 36000 #Gabriel amigo do Vini falou que o Carrarreto falou na sala deles (CHECAR)\n",
    "\n",
    "#Tensões\n",
    "V1 = 5*2/np.pi\n",
    "\n",
    "#Frequência Angular:\n",
    "w = 2*np.pi*f\n",
    "\n",
    "ka = 0.5 #fator de acoplamento CHECAR\n",
    "M = ka*((L1*L2)**(1/2))\n",
    "\n",
    "#Reatâncias\n",
    "XL1 = w*L1*1j\n",
    "XL2 = w*L2*1j\n",
    "\n",
    "XM = 1j*w*M\n",
    "\n",
    "XC1 = 1/(1j*w*C1)\n",
    "XC2 = 1/(1j*w*C2)\n"
   ]
  },
  {
   "cell_type": "code",
   "execution_count": 27,
   "metadata": {},
   "outputs": [],
   "source": [
    "def CalcularTransformadorSerie(Uf, Rc):\n",
    "    Z=np.array([[R1+XL1+XC1, -XM],[-XM, XL2+R2+Rc+XC2]])\n",
    "    V=np.array([Uf,0])\n",
    "    i=np.dot(linalg.inv(Z),V)\n",
    "    return i[0], i[1]"
   ]
  },
  {
   "cell_type": "code",
   "execution_count": 28,
   "metadata": {},
   "outputs": [],
   "source": [
    "def CalcularTransformadorParalelo(Uf, Rc):\n",
    "    Xep = (R2*XC2)/(R2+XC2)\n",
    "    Z=np.array([[R1+XL1+XC1, -XM],[-XM, XL2+R2+Xep]])\n",
    "    V=np.array([Uf,0])\n",
    "    i=np.dot(linalg.inv(Z),V)\n",
    "    return i[0], i[1]"
   ]
  },
  {
   "cell_type": "code",
   "execution_count": 29,
   "metadata": {},
   "outputs": [
    {
     "data": {
      "text/plain": [
       "(np.complex128(0.08938143311611496+0.748223096960566j),\n",
       " np.complex128(-0.007281686608654703-0.001946308769393147j))"
      ]
     },
     "execution_count": 29,
     "metadata": {},
     "output_type": "execute_result"
    }
   ],
   "source": [
    "RC = 10 # O que o prof faz no código do Lab --> NÂO TEMOS CERTEZA\n",
    "\n",
    "i1, i2 = CalcularTransformadorSerie(V1,RC)\n",
    "i1, i2"
   ]
  },
  {
   "cell_type": "code",
   "execution_count": 30,
   "metadata": {},
   "outputs": [
    {
     "data": {
      "text/plain": [
       "(np.complex128(0.09125534418913543+0.7472933008740399j),\n",
       " np.complex128(-0.08089557984535453+0.02425528767617347j))"
      ]
     },
     "execution_count": 30,
     "metadata": {},
     "output_type": "execute_result"
    }
   ],
   "source": [
    "RC = 10 # O que o prof faz no código do Lab --> NÂO TEMOS CERTEZA\n",
    "\n",
    "i1, i2 = CalcularTransformadorParalelo(V1,RC)\n",
    "i1, i2"
   ]
  },
  {
   "cell_type": "code",
   "execution_count": null,
   "metadata": {},
   "outputs": [],
   "source": []
  }
 ],
 "metadata": {
  "kernelspec": {
   "display_name": "Python 3",
   "language": "python",
   "name": "python3"
  },
  "language_info": {
   "codemirror_mode": {
    "name": "ipython",
    "version": 3
   },
   "file_extension": ".py",
   "mimetype": "text/x-python",
   "name": "python",
   "nbconvert_exporter": "python",
   "pygments_lexer": "ipython3",
   "version": "3.11.10"
  }
 },
 "nbformat": 4,
 "nbformat_minor": 2
}
