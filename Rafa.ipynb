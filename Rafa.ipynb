{
 "cells": [
  {
   "cell_type": "code",
   "execution_count": 26,
   "metadata": {},
   "outputs": [],
   "source": [
    "#Vamos importar os módulos que precisamos\n",
    "from cmath import *\n",
    "from numpy import linalg\n",
    "import numpy as np"
   ]
  },
  {
   "cell_type": "markdown",
   "metadata": {},
   "source": [
    "# CIRCUITO SÉRIE:\n"
   ]
  },
  {
   "cell_type": "markdown",
   "metadata": {},
   "source": [
    "### a. Declare as variáveis do transformador ($R_1$, $R_2$, $L_1$, $L_2$) e da fonte (frequência e tensão eficaz - Ufonte)"
   ]
  },
  {
   "cell_type": "code",
   "execution_count": 27,
   "metadata": {},
   "outputs": [],
   "source": [
    "#Resistências \n",
    "R1 = 0.5\n",
    "R2 = 0.5\n",
    "\n",
    "#Indutâncias\n",
    "L1 = 1e-6\n",
    "L2 = 1e-6\n",
    "\n",
    "#Capacitâncias\n",
    "C1 = 1e-6\n",
    "C2 = 1e-6\n",
    "\n",
    "#Frequências \n",
    "f = 36000 #Gabriel amigo do Vini falou que o Carrarreto falou na sala deles (CHECAR)\n",
    "\n",
    "#Tensões\n",
    "V1 = 5*2/np.pi\n",
    "\n",
    "#Frequência Angular:\n",
    "w = 2*np.pi*f\n",
    "\n",
    "ka = 0.5 #fator de acoplamento CHECAR\n",
    "M = ka*((L1*L2)**(1/2))\n",
    "\n",
    "\n",
    "\n",
    "#Reatâncias\n",
    "XL1 = w*L1*1j\n",
    "XL2 = w*L2*1j\n",
    "\n",
    "XM = 1j*w*M\n",
    "\n",
    "XC1 = 1/(1j*w*C1)\n",
    "XC2 = 1/(1j*w*C2)\n",
    "\n",
    "\n"
   ]
  },
  {
   "cell_type": "code",
   "execution_count": 28,
   "metadata": {},
   "outputs": [],
   "source": [
    "def CalcularTransformadorSerie(Uf, Rc):\n",
    "    Z=np.array([[R1+XL1+XC1, -XM],[-XM, XL2+R2+Rc+XC2]])\n",
    "    V=np.array([Uf,0])\n",
    "    i=np.dot(linalg.inv(Z),V)\n",
    "    return i[0], i[1]"
   ]
  },
  {
   "cell_type": "code",
   "execution_count": 29,
   "metadata": {},
   "outputs": [],
   "source": [
    "def CalcularTransformadorParalelo(Uf, Rc):\n",
    "    Xep = (Rc*XC2)/(Rc+XC2)\n",
    "    Z=np.array([[R1+XL1+XC1, -XM],[-XM, XL2+R2+Xep]])\n",
    "    V=np.array([Uf,0])\n",
    "    i=np.dot(linalg.inv(Z),V)\n",
    "    return i[0], i[1]"
   ]
  },
  {
   "cell_type": "code",
   "execution_count": null,
   "metadata": {},
   "outputs": [],
   "source": [
    "#Calcula o valor da indutância dependendo da capacitância e da frequência angular:\n",
    "def CalculaIndutância(C,w):\n",
    "    L = 1/((w**2)*C)\n",
    "    return L\n",
    "\n",
    "#Calcula o valor da Frequência Angular dependendo da frequência\n",
    "w = 2*np.pi*f"
   ]
  },
  {
   "cell_type": "code",
   "execution_count": 30,
   "metadata": {},
   "outputs": [
    {
     "name": "stdout",
     "output_type": "stream",
     "text": [
      "o valor de i1 é: (0.08938143311611496+0.748223096960566j) \n",
      "o valor de i2 é: (-0.0072816866086547055-0.0019463087693931474j)\n"
     ]
    }
   ],
   "source": [
    "RC = 10 # O que o prof faz no código do Lab --> NÂO TEMOS CERTEZA\n",
    "\n",
    "i1, i2 = CalcularTransformadorSerie(V1,RC)\n",
    "print(f'o valor de i1 é: {i1} \\no valor de i2 é: {i2}')"
   ]
  },
  {
   "cell_type": "code",
   "execution_count": 31,
   "metadata": {},
   "outputs": [
    {
     "name": "stdout",
     "output_type": "stream",
     "text": [
      "o valor de i1 é: (0.08957916404039046+0.7485890150342283j) \n",
      "o valor de i2 é: (-0.01299780617854798-0.016392359129632484j)\n"
     ]
    }
   ],
   "source": [
    "RC = 10 # O que o prof faz no código do Lab --> NÂO TEMOS CERTEZA\n",
    "\n",
    "i1, i2 = CalcularTransformadorParalelo(V1,RC)\n",
    "print(f'o valor de i1 é: {i1} \\no valor de i2 é: {i2}')\n"
   ]
  },
  {
   "cell_type": "markdown",
   "metadata": {},
   "source": [
    "Loop para plotar os gráficos"
   ]
  },
  {
   "cell_type": "code",
   "execution_count": null,
   "metadata": {},
   "outputs": [],
   "source": [
    "#Valores da capacitância\n",
    "capacitancias = [1.5e-7, 1e-7, 4.7e-7, 1e-6, 4.7e-6]\n",
    "\n",
    "#valores da frequência"
   ]
  }
 ],
 "metadata": {
  "kernelspec": {
   "display_name": "base",
   "language": "python",
   "name": "python3"
  },
  "language_info": {
   "codemirror_mode": {
    "name": "ipython",
    "version": 3
   },
   "file_extension": ".py",
   "mimetype": "text/x-python",
   "name": "python",
   "nbconvert_exporter": "python",
   "pygments_lexer": "ipython3",
   "version": "3.10.9"
  }
 },
 "nbformat": 4,
 "nbformat_minor": 2
}
